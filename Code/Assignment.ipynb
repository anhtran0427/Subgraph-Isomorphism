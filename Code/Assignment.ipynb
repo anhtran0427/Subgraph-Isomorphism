{
 "cells": [
  {
   "cell_type": "code",
   "execution_count": null,
   "id": "7bc382eb-d785-4e79-aa1a-c107a682a254",
   "metadata": {},
   "outputs": [],
   "source": [
    "import pandas as pd\n",
    "import networkx as nx\n",
    "import numpy as np\n",
    "import matplotlib\n",
    "from scipy.sparse import csr_matrix\n",
    "from matplotlib import pyplot as plt"
   ]
  },
  {
   "cell_type": "code",
   "execution_count": null,
   "id": "5e99465c-5b9a-4f7d-9216-adbf2a147565",
   "metadata": {},
   "outputs": [],
   "source": [
    "adj_data=pd.read_csv(r'facebook_combined_adj.tsv', sep='\\t',header=None)\n",
    "inc_data=pd.read_csv(r'facebook_combined_inc.tsv',sep='\\t',header=None)"
   ]
  },
  {
   "cell_type": "code",
   "execution_count": null,
   "id": "aed0f8aa-78c5-4be9-9843-9077878ff581",
   "metadata": {},
   "outputs": [],
   "source": [
    "# Create inc matrix and adj matrix\n",
    "nb_ver=adj_data.max().max()\n",
    "nb_edge=inc_data[1].max()\n",
    "adj_ma=np.zeros((nb_ver,nb_ver),dtype=np.int8)\n",
    "inc_ma=np.zeros((nb_ver,nb_edge),dtype=np.int8)\n",
    "\n",
    "for x in range (adj_data.shape[0]):  \n",
    "    adj_ma[adj_data.iat[x,0]-1][adj_data.iat[x,1]-1]=1\n",
    "for x in range (inc_data.shape[0]):  \n",
    "    inc_ma[inc_data.iat[x,0]-1][inc_data.iat[x,1]-1]=1"
   ]
  },
  {
   "cell_type": "code",
   "execution_count": null,
   "id": "a7acbb0f-9ca2-43db-9104-e049a91736df",
   "metadata": {},
   "outputs": [],
   "source": [
    "#Triangle counting\n",
    "print('Number of triangle:')\n",
    "csr_inc=csr_matrix(inc_ma)\n",
    "tri_ma=adj_ma@csr_inc\n",
    "print(np.count_nonzero(tri_ma==2)/3)"
   ]
  },
  {
   "cell_type": "code",
   "execution_count": null,
   "id": "62b8afac-b0c9-4099-9f20-b4faa31e804a",
   "metadata": {},
   "outputs": [],
   "source": [
    "#Ktruss decompose\n",
    "k = int(input(\"K truss with value k: \"))\n",
    "S=np.count_nonzero(tri_ma==2,axis=0)\n",
    "x_dismiss=np.asarray(np.nonzero(S<k-2))\n",
    "\n",
    "inc_ma_work=inc_ma.copy()\n",
    "adj_ma_work=adj_ma.copy()\n",
    "while x_dismiss.size!=0:\n",
    "    for x in range (x_dismiss.shape[1]):\n",
    "        #print(np.transpose(inc_ma1)[x_dismiss[0][x]])\n",
    "        position=np.asarray(np.transpose(inc_ma_work)[x_dismiss[0][x]].nonzero())[0]\n",
    "        adj_ma_work[position[0]] [position[1]]=0\n",
    "        adj_ma_work[position[1]] [position[0]]=0\n",
    "    inc_ma_work=np.delete(inc_ma_work,x_dismiss,1)\n",
    "    if inc_ma_work.size==0:\n",
    "        print('The subgraph cannot be found')\n",
    "        break\n",
    "    csr_inc_work=csr_matrix(inc_ma_work)\n",
    "    tri_ma=adj_ma_work@csr_inc_work\n",
    "    S=np.count_nonzero(tri_ma==2,axis=0)\n",
    "    x_dismiss=np.asarray(np.nonzero(S<k-2))\n",
    "\n",
    "if inc_ma_work.size!=0:\n",
    "    tit=\"Maximal k-truss subgraph has \"+str(inc_ma_work.shape[1])+\" edges\"\n",
    "    print (tit)"
   ]
  },
  {
   "cell_type": "code",
   "execution_count": null,
   "id": "783c5979-3397-408b-ab5f-ffb0570dbd2f",
   "metadata": {},
   "outputs": [],
   "source": [
    "save_ques= input(\"Do you want to save a pdf file of the graph (y/n): \")\n",
    "adj_ma_visualize=adj_ma_work+adj_ma\n",
    "G=nx.from_numpy_array(adj_ma_visualize)\n",
    "np.random.seed(123)\n",
    "color_map_edge=[]\n",
    "alpha_map=[]\n",
    "for node1,node2,data in G.edges.data():\n",
    "    if data['weight']==2:\n",
    "        color_map_edge.append('pink')\n",
    "        alpha_map.append(1)\n",
    "    else:\n",
    "        color_map_edge.append('lightgrey')\n",
    "        alpha_map.append(0.05)\n",
    "plt.figure(figsize=(20,14))\n",
    "nx.draw(G,with_labels=False, node_size=10,edge_color=color_map_edge,node_color='black',alpha=alpha_map)\n",
    "file_name=\"input_graph\"+str(nb_ver)+str(k)+\".pdf\"\n",
    "plt.title(\"Input graph with the found maximal k-truss in pink\") \n",
    "if save_ques=='y':\n",
    "    plt.savefig(file_name, dpi=600, bbox_inches='tight')\n",
    "plt.show()   \n"
   ]
  },
  {
   "cell_type": "code",
   "execution_count": null,
   "id": "22afef8b-cb02-4c4f-970c-00bb08991df3",
   "metadata": {},
   "outputs": [],
   "source": [
    "if inc_ma_work.size!=0:\n",
    "    number_of_vertex=np.count_nonzero(adj_ma_work,axis=0)\n",
    "    vertex_dismiss=np.asarray(np.nonzero(number_of_vertex==0))\n",
    "    adj_ma_work=np.delete(adj_ma_work,vertex_dismiss,1)\n",
    "    adj_ma_work=np.delete(adj_ma_work,vertex_dismiss,0)\n",
    "    G=nx.from_numpy_array(adj_ma_work)\n",
    "    np.random.seed(123)\n",
    "    plt.figure(figsize=(20,14))\n",
    "    nx.draw(G,with_labels=False, node_size=10,edge_color='pink',node_color='black')\n",
    "    file_name=\"ktruss_subgraph\"+str(nb_ver)+str(k)+\".pdf\"\n",
    "    ktitle=\"Maximal k-truss subgraph with \"+str(adj_ma_work.shape[0])+\" vertices and \"+str(inc_ma_work.shape[1])+\" edges\"\n",
    "    plt.title(ktitle) \n",
    "    if save_ques=='y':\n",
    "        plt.savefig(file_name, dpi=600, bbox_inches='tight')\n",
    "    plt.show()   \n"
   ]
  },
  {
   "cell_type": "code",
   "execution_count": null,
   "id": "463a899b-7da6-4c7b-9618-24e8d5c13060",
   "metadata": {},
   "outputs": [],
   "source": []
  }
 ],
 "metadata": {
  "kernelspec": {
   "display_name": "Python 3 (ipykernel)",
   "language": "python",
   "name": "python3"
  },
  "language_info": {
   "codemirror_mode": {
    "name": "ipython",
    "version": 3
   },
   "file_extension": ".py",
   "mimetype": "text/x-python",
   "name": "python",
   "nbconvert_exporter": "python",
   "pygments_lexer": "ipython3",
   "version": "3.11.6"
  }
 },
 "nbformat": 4,
 "nbformat_minor": 5
}
